{
 "cells": [
  {
   "cell_type": "markdown",
   "metadata": {
    "id": "hVbXYX-RfPWh"
   },
   "source": [
    "# Algoritmos de optimización - Seminario<br>\n",
    "Nombre y Apellidos: Mireia Compte Sastre  <br>\n",
    "Url:https://github.com/mireiacompte99/03MIAR-Algortimos-de-Optimizacion-2023/tree/main/SEMINARIO_FINAL <br>\n",
    "Problema:\n",
    ">3. Combinar cifras y operaciones\n",
    "\n",
    "Descripción del problema: \n",
    "Combinar cifras y operaciones. El trabajo consiste en combinar los numeros del 1 al 9 con los operandos de suma(+), resta(-), multiplicacion(*) y division(/) para, dado un valor, conseguir la combinacion de numeros y operandos que con las operaciones adecuadas nos den el valor esperado.\n",
    "\n",
    "....\n",
    "\n",
    "(*) La respuesta es obligatoria\n",
    "\n",
    "\n",
    "\n",
    "\n",
    "\n",
    "                                        "
   ]
  },
  {
   "cell_type": "markdown",
   "metadata": {
    "id": "3_-exlrTgLd-"
   },
   "source": [
    "(*)¿Cuantas posibilidades hay sin tener en cuenta las restricciones?<br>\n",
    "\n",
    "\n",
    "\n",
    "¿Cuantas posibilidades hay teniendo en cuenta todas las restricciones.\n",
    "\n",
    "\n"
   ]
  },
  {
   "cell_type": "markdown",
   "metadata": {
    "id": "WfCUqJyKhPcw"
   },
   "source": [
    "**Respuesta**"
   ]
  },
  {
   "cell_type": "markdown",
   "metadata": {
    "id": "zEXgD6-DkE1B"
   },
   "source": [
    "**Sin tener en cuenta las restricciones:**\n",
    "\n",
    "Para los números:  9^5 = 59049 <br>\n",
    "Para los símbolos: 4^4 = 256\n",
    "\n",
    "Multiplicamos ambos resultados para obtener el total de posibilidades:\n",
    "\n",
    "59049*256 = 15 116 544"
   ]
  },
  {
   "cell_type": "markdown",
   "metadata": {
    "id": "9k1nSW1-kQ5O"
   },
   "source": [
    "**Teniendo en cuenta todas las restricciones:**\n",
    "\n",
    "En cuanto a repeticion de numeros y orden de los operandos con los que trabajamos la siguiente: m!/(m-n)!\n",
    "\n",
    "Que se traduce en:\n",
    "- 4!\n",
    "- 9!/4!\n",
    "\n",
    "Total: 9!/4!* 4! = 362880\n",
    "\n",
    "También lo podemos hacer: \n",
    "\n",
    "- C(9,5) = 126: Esto significa que hay 126 formas de seleccionar 5 cifras de las 9 disponibles. C(9,5) es la combinación de 9 elementos tomados de 5 en 5, lo que se expresa matemáticamente como: C(9,5) = 9! / (5! * 4!) = 126.\n",
    "\n",
    "- 5! = 120: Hay 120 formas diferentes de ordenar las 5 cifras seleccionadas.\n",
    "\n",
    "- 24: Hay un total de 24 formas de ordenar los signos (4 operaciones diferentes, cada una de las cuales puede ser \"+\" o \"-\" o \"*\" o \"/\").\n",
    "\n",
    "Por lo tanto, la cantidad total de posibilidades es:\n",
    "\n",
    "126 x 120 x 24 = 362880"
   ]
  },
  {
   "cell_type": "markdown",
   "metadata": {
    "id": "dzynfVJahHoY"
   },
   "source": [
    "Modelo para el espacio de soluciones<br>\n",
    "(*) ¿Cual es la estructura de datos que mejor se adapta al problema? Argumentalo.(Es posible que hayas elegido una al principio y veas la necesidad de cambiar, arguentalo)\n"
   ]
  },
  {
   "cell_type": "markdown",
   "metadata": {
    "id": "xFIJrOwKi2Ti"
   },
   "source": [
    "**Respuesta**"
   ]
  },
  {
   "cell_type": "markdown",
   "metadata": {},
   "source": [
    "Para resolver este problema, una estructura de datos adecuada sería una lista de todas las posibles combinaciones de cifras y signos: "
   ]
  },
  {
   "cell_type": "code",
   "execution_count": 9,
   "metadata": {
    "id": "OSu3IL6plqYc"
   },
   "outputs": [],
   "source": [
    "numeros = [1,2,3,4,5,6,7,8,9] \n",
    "signos = [\"+\",\"-\",\"/\",\"*\"]"
   ]
  },
  {
   "cell_type": "markdown",
   "metadata": {},
   "source": [
    "\n",
    "Permite combinar los elementos para obtener todas la combinaciones posibles. Ahora bien, en caso de que las soluciones no sean válidas, no se añaden en la lista. En ese caso, podemos resolverlo usando la ramificación y poda. "
   ]
  },
  {
   "cell_type": "markdown",
   "metadata": {
    "id": "7Z9U2W7bi-XS"
   },
   "source": [
    "Según el modelo para el espacio de soluciones<br>\n",
    "(*)¿Cual es la función objetivo?\n",
    "\n",
    "(*)¿Es un problema de maximización o minimización?"
   ]
  },
  {
   "cell_type": "markdown",
   "metadata": {
    "id": "hBalWLM7j1_d"
   },
   "source": [
    "**Respuesta**"
   ]
  },
  {
   "cell_type": "markdown",
   "metadata": {
    "id": "6FL1BW0tl3Pd"
   },
   "source": [
    "La función objetivo es encontrar un número entero.\n",
    "\n",
    "No es un problema de maximización ni de minimización ya que el objetivo del mismo es la obtencion de una solucion, tratamos de encontrar un elemento."
   ]
  },
  {
   "cell_type": "markdown",
   "metadata": {
    "id": "rlnTYgY1j6I2"
   },
   "source": [
    "Diseña un algoritmo para resolver el problema por fuerza bruta"
   ]
  },
  {
   "cell_type": "markdown",
   "metadata": {
    "id": "70rDgxYXkC8r"
   },
   "source": [
    "**Respuesta**"
   ]
  },
  {
   "cell_type": "markdown",
   "metadata": {
    "id": "in0jYOZkl_H3"
   },
   "source": [
    "En este caso, he utilizado dos tipos de algortimos con complejidades distintas para resolver el problema por fuerza bruta."
   ]
  },
  {
   "cell_type": "code",
   "execution_count": 8,
   "metadata": {
    "colab": {
     "base_uri": "https://localhost:8080/",
     "height": 243
    },
    "id": "G9BM-HejvD5y",
    "outputId": "b557e0b6-c009-4a06-a1c8-61b8c5f28dbd"
   },
   "outputs": [
    {
     "name": "stdout",
     "output_type": "stream",
     "text": [
      "124\n"
     ]
    }
   ],
   "source": [
    "## 1a opción\n",
    "from itertools import * \n",
    "\n",
    "def fuerzabruta(c):\n",
    "    if len(c) == 0:\n",
    "        return [[]]\n",
    "    r = fuerzabruta(c[:-1])\n",
    "    return r + [s + [c[-1]] for s in r]\n",
    "def combinaciones(c, n):\n",
    "    return [s for s in fuerzabruta(c) if len(s) == n]\n",
    "#Hacemos un bucle , combinaciones y permutaciones\n",
    "op = list()\n",
    "for e in sorted(combinaciones(numeros, 5), key=lambda s:(len(s), s)):\n",
    "  for f in list(permutations(signos)):\n",
    "    ex = str(e[0]) + f[0] + str(e[1]) +f[1]+ str(e[2]) + f[2] + str(e[3]) + f[3] + str(e[4])    # Hacemos un bucle for para recorrer todas las permutaciones de los números.\n",
    "    resultado = eval(ex)\n",
    "    if resultado == int(resultado):\n",
    "      op.append(resultado)\n",
    "    \n",
    "print((len(op)))"
   ]
  },
  {
   "cell_type": "markdown",
   "metadata": {
    "id": "mRJZBqzqmYmk"
   },
   "source": [
    "**EXPLICACIÓN DEL CÓDIGO** \n",
    "\n",
    "Primero, se define una función llamada \"fuerzabruta\" que utiliza recursividad para generar todas las combinaciones posibles de una lista \"c\". Luego, se define otra función llamada \"combinaciones\" que llama a \"fuerzabruta\" y devuelve solo las combinaciones que tengan una longitud específica \"n\".\n",
    "\n",
    "Luego, se crea una lista \"op\" vacía para almacenar los resultados enteros únicos. A continuación, se crea un bucle que recorre todas las combinaciones de 5 números de la lista \"numeros\" y todas las permutaciones de los operadores en la lista \"signos\".\n",
    "\n",
    "Dentro del bucle, se crea una cadena de caracteres \"ex\" que contiene una combinación de números y operadores. Luego se evalúa la cadena de caracteres con la función eval() y se comprueba si el resultado es un número entero. Si es así, se agrega a la lista \"op\".\n",
    "\n",
    "Finalmente, el código imprime la longitud de la lista \"op\", que representa el número de resultados enteros únicos posibles.\n"
   ]
  },
  {
   "cell_type": "code",
   "execution_count": 10,
   "metadata": {
    "id": "cWJXn2qhD_uM"
   },
   "outputs": [
    {
     "name": "stdout",
     "output_type": "stream",
     "text": [
      "Enteros posibles: 25\n"
     ]
    }
   ],
   "source": [
    "## 2a opción\n",
    "import itertools\n",
    "\n",
    "def fuerza_bruta(nums, op):   #toma dos listas que devolverá el nº de resultados enteros posibles\n",
    "    results = []\n",
    "    for perm in itertools.permutations(nums):   #se itera en nums\n",
    "        for op_perm in itertools.permutations(op):  #se itera en op\n",
    "            vacio = \"\"\n",
    "            for i in range(len(nums)-1):\n",
    "                vacio += str(perm[i]) + op_perm[i]\n",
    "            vacio += str(perm[-1])\n",
    "            try:\n",
    "                val = eval(vacio)    #se intenta evaluar la expresion matemática\n",
    "                if val == int(val):\n",
    "                    results.append(int(val))\n",
    "            except:\n",
    "                pass\n",
    "    return len(set(results))\n",
    "\n",
    "nums = [1, 2, 3, 4, 5]\n",
    "op = [\"+\", \"-\", \"*\", \"/\"]\n",
    "\n",
    "count = fuerza_bruta(nums, op)\n",
    "\n",
    "print(\"Enteros posibles:\", count)\n"
   ]
  },
  {
   "cell_type": "markdown",
   "metadata": {
    "id": "bGq_OoA2nKb-"
   },
   "source": [
    "**EXPLICACIÓN DEL CÓDIGO**<br>\n",
    "Este código utiliza dos bucles anidados para recorrer todas las permutaciones de los números y los operadores. Para cada permutación de los números, se crea una expresión aritmética utilizando los operadores en su permutación correspondiente. La función eval() se utiliza para evaluar la expresión y verificar si el resultado es un número entero. Los resultados enteros se almacenan en una lista y, al final, se devuelve la cantidad de resultados enteros únicos utilizando un conjunto."
   ]
  },
  {
   "cell_type": "markdown",
   "metadata": {
    "id": "tgrnsC2nkFa8"
   },
   "source": [
    "Calcula la complejidad del algoritmo por fuerza bruta"
   ]
  },
  {
   "cell_type": "markdown",
   "metadata": {
    "id": "9eUd3xwckP68"
   },
   "source": [
    "**Respuesta**"
   ]
  },
  {
   "cell_type": "markdown",
   "metadata": {
    "id": "_CVm787LzKUm"
   },
   "source": [
    "La complejidad del primer  algoritmo es de O(n^2*m).\n",
    "\n",
    "Ahora bien, el algortimo siguiente tiene complejidad O((n+m)!)o dicho de otra manera, O(n!*m!), donde n es el número de cifras y m es el número de operadores."
   ]
  },
  {
   "cell_type": "markdown",
   "metadata": {
    "id": "txbrmLmskReM"
   },
   "source": [
    "(*)Diseña un algoritmo que mejore la complejidad del algortimo por fuerza bruta. Argumenta porque crees que mejora el algoritmo por fuerza bruta"
   ]
  },
  {
   "cell_type": "markdown",
   "metadata": {
    "id": "hLrVwt5QkZPD"
   },
   "source": [
    "**Respuesta**"
   ]
  },
  {
   "cell_type": "markdown",
   "metadata": {
    "id": "83LMwDLV2oKp"
   },
   "source": [
    "Una forma de mejorar la complejidad del algoritmo por fuerza bruta sería mediante la técnica de **backtracking**, la cual permite descartar ramas de la búsqueda que no cumplen ciertas condiciones y, por lo tanto, reducir el número total de combinaciones que se deben evaluar. \n",
    "\n",
    "Es decir, el algoritmo de backtracking puede mejorar la complejidad en comparación con el de fuerza bruta, ya que permite descartar soluciones parciales que no conducen a una solución completa. Esto puede reducir significativamente el espacio de búsqueda y, por lo tanto, mejorar la eficiencia del algoritmo."
   ]
  },
  {
   "cell_type": "code",
   "execution_count": 11,
   "metadata": {
    "colab": {
     "base_uri": "https://localhost:8080/"
    },
    "id": "bHlwuE1Op4s8",
    "outputId": "894a5e23-8461-4cb1-8635-15d50eb6398f"
   },
   "outputs": [
    {
     "name": "stdout",
     "output_type": "stream",
     "text": [
      "Enteros posibles: 32\n"
     ]
    }
   ],
   "source": [
    "def backtracking(nums, ops, target): \n",
    "    def backtrack(idx, val):   #función recursiva\n",
    "        nonlocal count         #ámbito superior al actual\n",
    "        if idx == len(nums):   #índice del seguiente número en la lista de números\n",
    "            if val == target:  #marcamos target (número entero al que se quiere llegar) para que el resultado de el número target\n",
    "                count += 1\n",
    "            return\n",
    "        for i in range(idx, len(nums)):\n",
    "            num = nums[idx:i+1]\n",
    "            if len(num) > 1 and num[0] == 0:\n",
    "                continue\n",
    "            for op in ops:                              #la funcion backtrack encuentra todas las combinaciones posibles\n",
    "                if op == \"+\":\n",
    "                    backtrack(i+1, val+int(''.join(map(str, num))))  #devuelve un objeto map que contiene los dígitos del nº convertidos a cadena\n",
    "                elif op == \"-\":\n",
    "                    backtrack(i+1, val-int(''.join(map(str, num))))\n",
    "                elif op == \"*\":\n",
    "                    backtrack(i+1, val*int(''.join(map(str, num))))\n",
    "                elif op == \"/\":\n",
    "                    if int(''.join(map(str, num))) == 0:\n",
    "                        continue\n",
    "                    backtrack(i+1, val//int(''.join(map(str, num))))\n",
    "    \n",
    "    count = 0\n",
    "    backtrack(0, 0)\n",
    "    return count\n",
    "\n",
    "nums = [1, 2, 5, 3, 9]\n",
    "ops = [\"+\", \"-\", \"*\", \"/\"]\n",
    "target = 27\n",
    "\n",
    "count = backtracking(nums, ops, target)\n",
    "\n",
    "print(\"Enteros posibles:\", count)"
   ]
  },
  {
   "cell_type": "markdown",
   "metadata": {
    "id": "71JYgw6g0UbY"
   },
   "source": [
    "Ambos algoritmos utilizan diferentes enfoques para resolver el problema. El algoritmo de fuerza bruta evalúa todas las posibles combinaciones de operaciones, mientras que el algoritmo de backtracking sólo evalúa las combinaciones que satisfacen la condición de igualdad con el número objetivo.\n",
    "\n",
    "Es decir,La principal diferencia entre el algoritmo de backtracking y el algoritmo de fuerza bruta es que el algoritmo de backtracking es una técnica de optimización que reduce el espacio de búsqueda al podar soluciones que no satisfacen ciertas condiciones, mientras que el algoritmo de fuerza bruta no hace ningún tipo de poda y explora todo el espacio de búsqueda.\n",
    "\n",
    "Por lo tanto, es posible que el algoritmo de backtracking no encuentre todas las combinaciones posibles que satisfacen la igualdad, pero en general, se espera que el algoritmo de backtracking sea más eficiente que la fuerza bruta para valores grandes de n."
   ]
  },
  {
   "cell_type": "markdown",
   "metadata": {
    "id": "eGDB4K6uk1iN"
   },
   "source": [
    "(*)Calcula la complejidad del algoritmo "
   ]
  },
  {
   "cell_type": "markdown",
   "metadata": {
    "id": "NhpTh_BPk1ms"
   },
   "source": [
    "**Respuesta**"
   ]
  },
  {
   "cell_type": "markdown",
   "metadata": {
    "id": "WTOSXthg1gOq"
   },
   "source": [
    "La complejidad de la seguna ocpión sería O(4^(n-1)) que se refiere a una complejidad exponencial en términos de n, donde en cada nivel del árbol de backtracking se realizan cuatro operaciones posibles (+, -, *, /) y hay n-1 niveles. Por lo tanto, el número total de operaciones es 4^(n-1).\n",
    "Además,el algoritmo de backtracking puede ser más eficiente que el algoritmo de fuerza bruta en términos de tiempo de ejecución.\n",
    "\n",
    "Sin embargo, en la práctica la complejidad sería menor debido a las podas realizadas en el algoritmo (por ejemplo, si se encuentra una solución antes de procesar todas las posibles combinaciones, no se siguen explorando más opciones). La complejidad exacta dependerá del conjunto de datos de entrada y del número de soluciones posibles que tenga."
   ]
  },
  {
   "cell_type": "markdown",
   "metadata": {
    "id": "3M6QjTsSkmYe"
   },
   "source": [
    "Según el problema (y tenga sentido), diseña un juego de datos de entrada aleatorios"
   ]
  },
  {
   "cell_type": "markdown",
   "metadata": {
    "id": "Jc3_OlyNkvjZ"
   },
   "source": [
    "**Respuesta**"
   ]
  },
  {
   "cell_type": "code",
   "execution_count": 16,
   "metadata": {
    "colab": {
     "base_uri": "https://localhost:8080/"
    },
    "id": "sJ-N2etjkyWc",
    "outputId": "185539c0-0570-4f67-93a6-87a2b5fb630a"
   },
   "outputs": [
    {
     "name": "stdout",
     "output_type": "stream",
     "text": [
      "[484, 533, 946, 273, 921, 214, 978, 572, 664]\n"
     ]
    }
   ],
   "source": [
    "#Creamos la lista random\n",
    "import numpy as np\n",
    "\n",
    "random = [np.random.randint(1,1000) for _ in range(1,10,1)]\n",
    "\n",
    "print(random)"
   ]
  },
  {
   "cell_type": "markdown",
   "metadata": {
    "id": "zy5ZROmjlGo1"
   },
   "source": [
    "Aplica el algoritmo al juego de datos generado"
   ]
  },
  {
   "cell_type": "markdown",
   "metadata": {
    "id": "_Cmj-PVylMsa"
   },
   "source": [
    "**Respuesta**"
   ]
  },
  {
   "cell_type": "markdown",
   "metadata": {},
   "source": [
    "En este caso también he optado por hacer dos métodos:"
   ]
  },
  {
   "cell_type": "code",
   "execution_count": 13,
   "metadata": {
    "colab": {
     "base_uri": "https://localhost:8080/",
     "height": 243
    },
    "id": "Jkx8GeiYlUz1",
    "outputId": "1cdc609a-437d-471b-94c5-4cef6b971b57"
   },
   "outputs": [
    {
     "name": "stdout",
     "output_type": "stream",
     "text": [
      "4\n"
     ]
    }
   ],
   "source": [
    "## 1a ocpión utilizando la estructura del algoritmo de fuerza bruta\n",
    "for e in sorted(combinaciones(random, 9), key=lambda s:(len(s), s)):\n",
    "  for f in list(permutations(signos)):\n",
    "    ex = str(e[0]) + f[0] + str(e[1]) +f[1]+ str(e[2]) + f[2] + str(e[3]) + f[3] + str(e[4]) \n",
    "    resultado = eval(ex)\n",
    "    if resultado == int(resultado):\n",
    "      op.append(resultado)\n",
    "    \n",
    "print((len(op)))"
   ]
  },
  {
   "cell_type": "code",
   "execution_count": 15,
   "metadata": {
    "id": "Bn5cRgPbggay"
   },
   "outputs": [
    {
     "name": "stdout",
     "output_type": "stream",
     "text": [
      "Lista generada aleatoriamente: [397, 588, 739, 634, 692, 261, 811, 913, 528]\n"
     ]
    }
   ],
   "source": [
    "## 2a opción utilizando backtracking de nuevo\n",
    "import itertools\n",
    "\n",
    "def encuentra_resultados(nums, ops):\n",
    "    def backtrack(idx, curr, total, res): #resultado entero o igual a 0\n",
    "        if idx == len(nums):\n",
    "            if total == 0:\n",
    "                if curr.isdigit() and int(curr) not in res:  #la variable curr almacena la cadena de operacions y nº actual\n",
    "                    res.add(int(curr))\n",
    "            return\n",
    "        for i in range(idx, len(nums)):\n",
    "            for op in ops:\n",
    "                if op == \"+\":\n",
    "                    backtrack(i+1, curr+\"+\"+str(nums[i]), total+nums[i], res)\n",
    "                elif op == \"-\":\n",
    "                    backtrack(i+1, curr+\"-\"+str(nums[i]), total-nums[i], res)\n",
    "                elif op == \"*\":\n",
    "                    backtrack(i+1, curr+\"*\"+str(nums[i]), total*nums[i], res)\n",
    "                else:\n",
    "                    if nums[i] != 0:\n",
    "                        backtrack(i+1, curr+\"/\"+str(nums[i]), total/nums[i], res)\n",
    "    \n",
    "    results = set()\n",
    "    backtrack(0, \"\", 0, results)\n",
    "    return len(results)\n",
    "\n",
    "\n",
    "random = [np.random.randint(1,1000) for _ in range(1,10,1)]   #genera lista aleatoria de 9 números\n",
    "\n",
    "print(\"Lista generada aleatoriamente:\", random)"
   ]
  },
  {
   "cell_type": "markdown",
   "metadata": {},
   "source": [
    "**EXPLICACIÓN DEL CÓDIGO** <br>\n",
    "La función utiliza la técnica de backtracking para encontrar todas las posibles combinaciones de operaciones matemáticas y números que se pueden utilizar para obtener un resultado entero.\n",
    "\n",
    "En cada iteración, se recorre la lista de números y se ejecuta un bucle for para cada operación en la lista de operaciones. Luego, se realiza la operación correspondiente y se llama a la función \"backtrack\" recursivamente con el índice actualizado, la cadena de operaciones y números actualizada, el total actualizado y el conjunto de resultados.\n",
    "\n",
    "Cuando se ha recorrido toda la lista de números, se verifica si el total es cero. Si es así, se comprueba si la cadena de operaciones y números actual es un número entero y si ese número no está en el conjunto de resultados. Si se cumplen ambas condiciones, se agrega el número entero al conjunto de resultados.\n",
    "\n",
    "Al final, la función devuelve la cantidad de resultados enteros diferentes que se han encontrado.\n",
    "\n",
    "En el programa principal, se genera una lista aleatoria de 9 números enteros utilizando la biblioteca NumPy, y se imprime la lista aleatoria generada. Luego, se llama a la función principal con la lista de números aleatorios y una lista de operaciones matemáticas que incluye los operadores +, -, *, y /."
   ]
  },
  {
   "cell_type": "markdown",
   "metadata": {
    "id": "eTFWUJQrtGcv"
   },
   "source": [
    "Enumera las referencias que has utilizado(si ha sido necesario) para llevar a cabo el trabajo"
   ]
  },
  {
   "cell_type": "markdown",
   "metadata": {
    "id": "YKQ_mRBttWsP"
   },
   "source": [
    "**Respuesta**"
   ]
  },
  {
   "cell_type": "markdown",
   "metadata": {
    "id": "PAd3-I-G3O2t"
   },
   "source": [
    "http://edupython.blogspot.com/2016/06/combinaciones-permutaciones-y-otras.html <br>\n",
    "https://www.delftstack.com/es/howto/python/combinations-of-list-in-python/\n",
    "https://es.acervolima.com/permutacion-y-combinacion-en-python/<br>\n",
    "https://binary-coffee.dev/post/generando-permutaciones-en-python<br>\n",
    "https://www.geeksforgeeks.org/backtracking-algorithms/<br>\n",
    "https://www.educative.io/answers/how-to-implement-depth-first-search-in-python<br>\n",
    "https://docs.python.org/3/library/itertools.html<br>\n",
    "https://www.w3schools.com/python/ref_keyword_nonlocal.asp<br>\n",
    "StackOverFlow.com<br>\n",
    "https://algodaily.com/lessons/recursive-backtracking-for-combinatorial-path-finding-and-sudoku-solver-algorithms<br>\n",
    "Videos tutoriales de Youtube"
   ]
  },
  {
   "cell_type": "markdown",
   "metadata": {
    "id": "kAkDPUyRtYyH"
   },
   "source": [
    "Describe brevemente las lineas de como crees que es posible avanzar en el estudio del problema. Ten en cuenta incluso posibles variaciones del problema y/o variaciones al alza del tamaño"
   ]
  },
  {
   "cell_type": "markdown",
   "metadata": {
    "id": "IE0uZmo-tZu-"
   },
   "source": [
    "**Respuesta**"
   ]
  },
  {
   "cell_type": "markdown",
   "metadata": {
    "id": "UpRMMnHJ38ov"
   },
   "source": [
    "Para avanzar en el estudio del problema, se pueden explorar diferentes enfoques y técnicas que permitan mejorar la eficiencia del algoritmo, especialmente cuando el tamaño de la entrada aumenta. A continuación, se detallan algunas posibles líneas de trabajo:\n",
    "\n",
    "- Utilizar técnicas de poda y optimización para reducir la cantidad de soluciones parciales que deben ser exploradas durante la búsqueda.\n",
    "- Implementar una heurística que permita explorar primero las soluciones más prometedoras, de manera que se pueda encontrar una solución óptima de forma más rápida.\n",
    "- Estudiar la complejidad del problema y tratar de encontrar algoritmos más eficientes que puedan manejar tamaños de entrada aún mayores. Por ejemplo, se pueden explorar técnicas basadas en programación dinámica.\n",
    "- Explorar variantes del problema, como el caso en el que se busca encontrar la expresión que maximiza o minimiza el resultado."
   ]
  }
 ],
 "metadata": {
  "colab": {
   "provenance": []
  },
  "kernelspec": {
   "display_name": "Python 3 (ipykernel)",
   "language": "python",
   "name": "python3"
  },
  "language_info": {
   "codemirror_mode": {
    "name": "ipython",
    "version": 3
   },
   "file_extension": ".py",
   "mimetype": "text/x-python",
   "name": "python",
   "nbconvert_exporter": "python",
   "pygments_lexer": "ipython3",
   "version": "3.7.7"
  }
 },
 "nbformat": 4,
 "nbformat_minor": 4
}
