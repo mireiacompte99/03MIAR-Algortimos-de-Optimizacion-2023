{
  "nbformat": 4,
  "nbformat_minor": 0,
  "metadata": {
    "colab": {
      "provenance": [],
      "include_colab_link": true
    },
    "kernelspec": {
      "name": "python3",
      "display_name": "Python 3"
    }
  },
  "cells": [
    {
      "cell_type": "markdown",
      "metadata": {
        "id": "view-in-github",
        "colab_type": "text"
      },
      "source": [
        "<a href=\"https://colab.research.google.com/github/mireiacompte99/03MIAR-Algortimos-de-Optimizacion-2023/blob/main/SEMINARIO_FINAL/Compte_Mireia__Seminario_Algoritmos.ipynb\" target=\"_parent\"><img src=\"https://colab.research.google.com/assets/colab-badge.svg\" alt=\"Open In Colab\"/></a>"
      ]
    },
    {
      "cell_type": "markdown",
      "metadata": {
        "id": "hVbXYX-RfPWh"
      },
      "source": [
        "# Algoritmos de optimización - Seminario<br>\n",
        "Nombre y Apellidos: Mireia Compte Sastre  <br>\n",
        "Url: <br>\n",
        "Problema:\n",
        ">3. Combinar cifras y operaciones\n",
        "\n",
        "Descripción del problema: \n",
        "Combinar cifras y operaciones. El trabajo consiste en combinar los numeros del 1 al 9 con los operandos de suma(+), resta(-), multiplicacion(*) y division(/) para, dado un valor, conseguir la combinacion de numeros y operandos que con las operaciones adecuadas nos den el valor esperado.\n",
        "\n",
        "....\n",
        "\n",
        "(*) La respuesta es obligatoria\n",
        "\n",
        "\n",
        "\n",
        "\n",
        "\n",
        "                                        "
      ]
    },
    {
      "cell_type": "markdown",
      "metadata": {
        "id": "3_-exlrTgLd-"
      },
      "source": [
        "(*)¿Cuantas posibilidades hay sin tener en cuenta las restricciones?<br>\n",
        "\n",
        "\n",
        "\n",
        "¿Cuantas posibilidades hay teniendo en cuenta todas las restricciones.\n",
        "\n",
        "\n"
      ]
    },
    {
      "cell_type": "markdown",
      "metadata": {
        "id": "WfCUqJyKhPcw"
      },
      "source": [
        "**Respuesta**"
      ]
    },
    {
      "cell_type": "markdown",
      "source": [
        "**Sin tener en cuenta las restricciones:**\n",
        "\n",
        "*  Para los números:  9^5 = 59049\n",
        "*  Para los símbolos: 4^4 = 256\n",
        "\n",
        "Multiplicamos ambos resultados para obtener el total de posibilidades:\n",
        "\n",
        "59049*256 = 15 116 544"
      ],
      "metadata": {
        "id": "oQ8gg9eoNsdf"
      }
    },
    {
      "cell_type": "markdown",
      "source": [
        "**Teniendo en cuenta todas las restricciones:**\n",
        "\n",
        "En cuanto a repeticion de numeros y orden de los operandos con los que trabajamos la siguiente:\n",
        "m!/(m-n)!\n",
        "\n",
        "Que se traduce en:\n",
        "- 4!\n",
        "- 9!/4!\n",
        "\n",
        "Total: 9!/4!* 4! = 362880\n"
      ],
      "metadata": {
        "id": "UdeBW82POGX-"
      }
    },
    {
      "cell_type": "markdown",
      "metadata": {
        "id": "dzynfVJahHoY"
      },
      "source": [
        "Modelo para el espacio de soluciones<br>\n",
        "(*) ¿Cual es la estructura de datos que mejor se adapta al problema? Argumentalo.(Es posible que hayas elegido una al principio y veas la necesidad de cambiar, arguentalo)\n"
      ]
    },
    {
      "cell_type": "markdown",
      "metadata": {
        "id": "xFIJrOwKi2Ti"
      },
      "source": [
        "**Respuesta**"
      ]
    },
    {
      "cell_type": "code",
      "source": [
        "##La estructura que se adapta es una lista para cada numeros y otra para signos:##\n",
        "numeros = [1,2,3,4,5,6,7,8,9]\n",
        "signos = [\"+\",\"-\",\"/\",\"*\"]"
      ],
      "metadata": {
        "id": "v0PiCgZvx-R8"
      },
      "execution_count": null,
      "outputs": []
    },
    {
      "cell_type": "markdown",
      "metadata": {
        "id": "7Z9U2W7bi-XS"
      },
      "source": [
        "Según el modelo para el espacio de soluciones<br>\n",
        "(*)¿Cual es la función objetivo?\n",
        "\n",
        "(*)¿Es un problema de maximización o minimización?"
      ]
    },
    {
      "cell_type": "markdown",
      "metadata": {
        "id": "hBalWLM7j1_d"
      },
      "source": [
        "**Respuesta**"
      ]
    },
    {
      "cell_type": "markdown",
      "source": [
        "La función objetivo es encontrar un número entero.\n",
        "\n",
        "No en un problema de maximizacion ni de minimizacion ya que el objetivo del mismo es la obtencion de una solucion, tratamos de encontrar un elemento."
      ],
      "metadata": {
        "id": "G-QVcu9rKc4M"
      }
    },
    {
      "cell_type": "markdown",
      "metadata": {
        "id": "rlnTYgY1j6I2"
      },
      "source": [
        "Diseña un algoritmo para resolver el problema por fuerza bruta"
      ]
    },
    {
      "cell_type": "markdown",
      "metadata": {
        "id": "70rDgxYXkC8r"
      },
      "source": [
        "**Respuesta**"
      ]
    },
    {
      "cell_type": "code",
      "source": [
        "from itertools import * \n",
        "\n",
        "def fuerzabruta(c):\n",
        "    if len(c) == 0:\n",
        "        return [[]]\n",
        "    r = fuerzabruta(c[:-1])\n",
        "    return r + [s + [c[-1]] for s in r]\n",
        "def combinaciones(c, n):\n",
        "    return [s for s in fuerzabruta(c) if len(s) == n]\n",
        "#Hacemos un bucle , combinaciones y permutaciones\n",
        "op = list()\n",
        "for e in sorted(combinaciones(numeros, 5), key=lambda s:(len(s), s)):\n",
        "  for f in list(permutations(signos)):\n",
        "    ex = str(e[0]) + f[0] + str(e[1]) +f[1]+ str(e[2]) + f[2] + str(e[3]) + f[3] + str(e[4])    # Hacemos un bucle for para recorrer todas las permutaciones de los números.\n",
        "    resultado = eval(ex)\n",
        "    if resultado == int(resultado):\n",
        "      op.append(resultado)\n",
        "    \n",
        "print((len(op)))"
      ],
      "metadata": {
        "colab": {
          "base_uri": "https://localhost:8080/"
        },
        "id": "G9BM-HejvD5y",
        "outputId": "f5fee3c2-740e-4a1d-e5d7-06521d0daac6"
      },
      "execution_count": null,
      "outputs": [
        {
          "output_type": "stream",
          "name": "stdout",
          "text": [
            "124\n"
          ]
        }
      ]
    },
    {
      "cell_type": "markdown",
      "metadata": {
        "id": "tgrnsC2nkFa8"
      },
      "source": [
        "Calcula la complejidad del algoritmo por fuerza bruta"
      ]
    },
    {
      "cell_type": "markdown",
      "metadata": {
        "id": "9eUd3xwckP68"
      },
      "source": [
        "**Respuesta**"
      ]
    },
    {
      "cell_type": "markdown",
      "source": [
        "La complejidad de este algoritmo es de O(n^2)"
      ],
      "metadata": {
        "id": "_CVm787LzKUm"
      }
    },
    {
      "cell_type": "markdown",
      "metadata": {
        "id": "txbrmLmskReM"
      },
      "source": [
        "(*)Diseña un algoritmo que mejore la complejidad del algortimo por fuerza bruta. Argumenta porque crees que mejora el algoritmo por fuerza bruta"
      ]
    },
    {
      "cell_type": "markdown",
      "metadata": {
        "id": "hLrVwt5QkZPD"
      },
      "source": [
        "**Respuesta**"
      ]
    },
    {
      "cell_type": "markdown",
      "source": [
        "En este algoritmo , no he podido reducir la complejidad, sin embargo, creo que aplicando un algoritmo de 'ramificación y poda' se podría disminuir. "
      ],
      "metadata": {
        "id": "83LMwDLV2oKp"
      }
    },
    {
      "cell_type": "markdown",
      "metadata": {
        "id": "eGDB4K6uk1iN"
      },
      "source": [
        "(*)Calcula la complejidad del algoritmo "
      ]
    },
    {
      "cell_type": "markdown",
      "metadata": {
        "id": "NhpTh_BPk1ms"
      },
      "source": [
        "**Respuesta**"
      ]
    },
    {
      "cell_type": "markdown",
      "source": [
        "La complejidad de este algoritmo es de O(n^2)"
      ],
      "metadata": {
        "id": "WTOSXthg1gOq"
      }
    },
    {
      "cell_type": "markdown",
      "metadata": {
        "id": "3M6QjTsSkmYe"
      },
      "source": [
        "Según el problema (y tenga sentido), diseña un juego de datos de entrada aleatorios"
      ]
    },
    {
      "cell_type": "markdown",
      "metadata": {
        "id": "Jc3_OlyNkvjZ"
      },
      "source": [
        "**Respuesta**"
      ]
    },
    {
      "cell_type": "code",
      "metadata": {
        "id": "sJ-N2etjkyWc",
        "colab": {
          "base_uri": "https://localhost:8080/"
        },
        "outputId": "85b3b3ac-32bb-4c69-808a-f7cbf86ffc16"
      },
      "source": [
        "\n",
        "import numpy as np\n",
        "\n",
        "random = [np.random.randint(1,1000) for _ in range(1,10,1)]\n",
        "\n",
        "print(random)"
      ],
      "execution_count": null,
      "outputs": [
        {
          "output_type": "stream",
          "name": "stdout",
          "text": [
            "[946, 999, 622, 380, 97, 321, 907, 929, 282]\n"
          ]
        }
      ]
    },
    {
      "cell_type": "markdown",
      "metadata": {
        "id": "zy5ZROmjlGo1"
      },
      "source": [
        "Aplica el algoritmo al juego de datos generado"
      ]
    },
    {
      "cell_type": "markdown",
      "metadata": {
        "id": "_Cmj-PVylMsa"
      },
      "source": [
        "**Respuesta**"
      ]
    },
    {
      "cell_type": "code",
      "metadata": {
        "id": "Jkx8GeiYlUz1",
        "colab": {
          "base_uri": "https://localhost:8080/"
        },
        "outputId": "878333f7-2dac-4a1d-83d4-8f2757c80ce5"
      },
      "source": [
        "for e in sorted(combinaciones(random, 9), key=lambda s:(len(s), s)):\n",
        "  for f in list(permutations(signos)):\n",
        "    ex = str(e[0]) + f[0] + str(e[1]) +f[1]+ str(e[2]) + f[2] + str(e[3]) + f[3] + str(e[4]) \n",
        "    resultado = eval(ex)\n",
        "    if resultado == int(resultado):\n",
        "      op.append(resultado)\n",
        "    \n",
        "print((len(op)))"
      ],
      "execution_count": null,
      "outputs": [
        {
          "output_type": "stream",
          "name": "stdout",
          "text": [
            "124\n"
          ]
        }
      ]
    },
    {
      "cell_type": "markdown",
      "metadata": {
        "id": "eTFWUJQrtGcv"
      },
      "source": [
        "Enumera las referencias que has utilizado(si ha sido necesario) para llevar a cabo el trabajo"
      ]
    },
    {
      "cell_type": "markdown",
      "metadata": {
        "id": "YKQ_mRBttWsP"
      },
      "source": [
        "**Respuesta**"
      ]
    },
    {
      "cell_type": "markdown",
      "source": [
        "http://edupython.blogspot.com/2016/06/combinaciones-permutaciones-y-otras.html\n",
        "https://www.delftstack.com/es/howto/python/combinations-of-list-in-python/\n",
        "https://es.acervolima.com/permutacion-y-combinacion-en-python/\n",
        "https://binary-coffee.dev/post/generando-permutaciones-en-python"
      ],
      "metadata": {
        "id": "PAd3-I-G3O2t"
      }
    },
    {
      "cell_type": "markdown",
      "metadata": {
        "id": "kAkDPUyRtYyH"
      },
      "source": [
        "Describe brevemente las lineas de como crees que es posible avanzar en el estudio del problema. Ten en cuenta incluso posibles variaciones del problema y/o variaciones al alza del tamaño"
      ]
    },
    {
      "cell_type": "markdown",
      "metadata": {
        "id": "IE0uZmo-tZu-"
      },
      "source": [
        "**Respuesta**"
      ]
    },
    {
      "cell_type": "markdown",
      "source": [
        "Por una parte, se podría aplicar algoritmos heurísticos u observar la cadencia de los numeros en todas las combinciones posibles y obtener una distribucion de probabilidad de cada uno de ellos y así asignarles ,a la hora de escoger los numeros, una probabilidad especifica."
      ],
      "metadata": {
        "id": "UpRMMnHJ38ov"
      }
    }
  ]
}